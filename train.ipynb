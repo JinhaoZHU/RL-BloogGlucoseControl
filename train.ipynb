{
 "cells": [
  {
   "cell_type": "markdown",
   "metadata": {
    "collapsed": true,
    "pycharm": {
     "name": "#%% md\n"
    }
   },
   "source": [
    "### 参数说明\n",
    "base_name：模型名称\n",
    "finish:是否训练完成,false\n",
    "reward_fun:奖励函数 'magni_bg'\n",
    "bg_prediction：血糖预测模型位置，如果没有就为None\n",
    "include_meal:是否包含饮食信息，true or false"
   ]
  },
  {
   "cell_type": "code",
   "execution_count": null,
   "outputs": [],
   "source": [
    "from train_helper import train\n",
    "args={\n",
    "    'base_name':'sac_meal_bg_prediction',\n",
    "    'finish': False,\n",
    "    'reward_fun':'magni_bg',\n",
    "    'bg_prediction':None,\n",
    "    'include_meal':True\n",
    "}\n",
    "train(args)\n"
   ],
   "metadata": {
    "collapsed": false,
    "pycharm": {
     "name": "#%%\n"
    }
   }
  },
  {
   "cell_type": "code",
   "execution_count": 6,
   "outputs": [
    {
     "data": {
      "text/plain": "1"
     },
     "metadata": {},
     "output_type": "execute_result",
     "execution_count": 6
    }
   ],
   "source": [
    "import joblib\n",
    "data=joblib.load(r'D:\\MyWorks\\糖尿病预测\\强化学习方法\\rl4bg\\bgp\\saves\\pid_ma\\child#007_simulation_1.pkl')\n",
    "len(data)"
   ],
   "metadata": {
    "collapsed": false,
    "pycharm": {
     "name": "#%%\n",
     "is_executing": false
    }
   }
  }
 ],
 "metadata": {
  "language_info": {
   "codemirror_mode": {
    "name": "ipython",
    "version": 2
   },
   "file_extension": ".py",
   "mimetype": "text/x-python",
   "name": "python",
   "nbconvert_exporter": "python",
   "pygments_lexer": "ipython2",
   "version": "2.7.6"
  },
  "kernelspec": {
   "name": "python3",
   "language": "python",
   "display_name": "Python 3"
  },
  "pycharm": {
   "stem_cell": {
    "cell_type": "raw",
    "source": [],
    "metadata": {
     "collapsed": false
    }
   }
  }
 },
 "nbformat": 4,
 "nbformat_minor": 0
}